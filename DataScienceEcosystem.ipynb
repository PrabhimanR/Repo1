{
 "cells": [
  {
   "cell_type": "markdown",
   "id": "5eb780d3-fc56-4785-8ce2-54f2eba501e2",
   "metadata": {},
   "source": [
    "# Data Science Tools and Ecosystem"
   ]
  },
  {
   "cell_type": "markdown",
   "id": "76399911-50ef-41a2-9a41-83ded566a878",
   "metadata": {},
   "source": [
    "In this notebook, Data Science Tools and Ecosystem are summarized."
   ]
  },
  {
   "cell_type": "markdown",
   "id": "0f57ba3f-28e8-4fe3-8386-cd97c2d65275",
   "metadata": {},
   "source": [
    "Some of the popular languages that Data Scientists use are:\n",
    "<ol>\n",
    "<li>Python</li>\n",
    "<li>R</li>\n",
    "<li>SQL</li>\n",
    "<li>Java</li>\n",
    "</ol>"
   ]
  },
  {
   "cell_type": "markdown",
   "id": "f0ded62c-7563-48cb-aa4f-a74252e7e76d",
   "metadata": {},
   "source": [
    "Some of the commonly used libraries used by Data Scientists include:\n",
    "<ol>\n",
    "<li>NumPy</li>\n",
    "<li>Matplotlib</li>\n",
    "<li>Pandas</li>\n",
    "<li>SciPy</li>\n",
    "<li>PyTorch</li>\n",
    "<li>Seaborn</li>\n",
    "</ol>"
   ]
  },
  {
   "cell_type": "markdown",
   "id": "beaf8003-8acf-415d-80f6-f6962fc64980",
   "metadata": {
    "tags": []
   },
   "source": [
    "<table>\n",
    "<tr><th>Data Science Tools</th></tr>\n",
    "<tr><td>Apache Spark</td></tr>\n",
    "<tr><td>TensorFlow</td></tr>\n",
    "<tr><td>Scikit-learn</td></tr>\n",
    "<tr><td>RStudio</td></tr>\n",
    "</table>"
   ]
  },
  {
   "cell_type": "markdown",
   "id": "e6f423e8-922d-4800-8071-8c5c70d27581",
   "metadata": {},
   "source": [
    "# Arithmetic Expression Examples\n",
    "\n",
    "### Below are a few examples of evaluating arithmetic expressions in Python\n",
    "\n",
    "Python supports a variety of arithmetic operations, including addition, subtraction, multiplication, and division. Here are some examples:\n",
    "\n",
    "1. **Addition**: \n",
    "    `result = 5 + 3`  (Output: 8)\n",
    "2. **Subtraction**: \n",
    "    `result = 10 - 4`  (Output: 6)\n",
    "3. **Multiplication**: \n",
    "    `result = 7 * 6`  (Output: 42)\n",
    "4. **Division**: \n",
    "    `result = 20 / 4`  (Output: 5.0)\n",
    "5. **Modulus**: \n",
    "    `result = 15 % 4`  (Output: 3)\n",
    "6. **Exponentiation**: \n",
    "    `result = 2 ** 3`  (Output: 8)\n",
    "\n",
    "These examples demonstrate how to perform basic arithmetic operations in Python.\n"
   ]
  },
  {
   "cell_type": "code",
   "execution_count": 3,
   "id": "d8c4d611-0b1f-4159-9976-12c591483459",
   "metadata": {
    "tags": []
   },
   "outputs": [
    {
     "name": "stdout",
     "output_type": "stream",
     "text": [
      "17\n"
     ]
    }
   ],
   "source": [
    "# This is a simple arithmetic expression to multiply then add integers.\n",
    "result = (3 * 4) + 5\n",
    "print(result)\n"
   ]
  },
  {
   "cell_type": "code",
   "execution_count": 4,
   "id": "8a4fccf2-8ad5-4e63-88ef-8f1580bf812c",
   "metadata": {
    "tags": []
   },
   "outputs": [
    {
     "name": "stdout",
     "output_type": "stream",
     "text": [
      "3.3333333333333335\n"
     ]
    }
   ],
   "source": [
    "# This will convert 200 minutes to hours by dividing by 60.\n",
    "minutes = 200\n",
    "hours = minutes / 60\n",
    "print(hours)\n"
   ]
  },
  {
   "cell_type": "markdown",
   "id": "61a56c7b-fd32-4371-809c-98dd4b36117f",
   "metadata": {},
   "source": [
    "**Objectives:**\n",
    "\n",
    "- Understand basic arithmetic operations in Python.\n",
    "- Learn how to convert minutes to hours using simple calculations.\n",
    "- Familiarize yourself with code and markdown cells in Jupyter notebooks.\n",
    "- Explore the use of comments to explain code functionality.\n",
    "- List popular libraries used for data analysis and visualization in Python.\n"
   ]
  },
  {
   "cell_type": "markdown",
   "id": "0657a6d1-f968-4201-ace8-8a388fc538eb",
   "metadata": {},
   "source": [
    "## Author\n",
    "\n",
    "Prabhiman Raut\n",
    "\n"
   ]
  },
  {
   "cell_type": "code",
   "execution_count": null,
   "id": "c95ead34-bc02-4787-a694-9dad349556ef",
   "metadata": {},
   "outputs": [],
   "source": []
  }
 ],
 "metadata": {
  "kernelspec": {
   "display_name": "Python",
   "language": "python",
   "name": "conda-env-python-py"
  },
  "language_info": {
   "codemirror_mode": {
    "name": "ipython",
    "version": 3
   },
   "file_extension": ".py",
   "mimetype": "text/x-python",
   "name": "python",
   "nbconvert_exporter": "python",
   "pygments_lexer": "ipython3",
   "version": "3.7.12"
  }
 },
 "nbformat": 4,
 "nbformat_minor": 5
}
